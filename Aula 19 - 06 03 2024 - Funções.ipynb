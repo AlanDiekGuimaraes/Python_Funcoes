{
 "nbformat": 4,
 "nbformat_minor": 0,
 "metadata": {
  "colab": {
   "provenance": [],
   "authorship_tag": "ABX9TyM9znG08cVEGjaPCVjnCHOV"
  },
  "kernelspec": {
   "name": "python3",
   "language": "python",
   "display_name": "Python 3 (ipykernel)"
  },
  "language_info": {
   "name": "python"
  }
 },
 "cells": [
  {
   "cell_type": "markdown",
   "source": [
    "Aprendendo Funções"
   ],
   "metadata": {
    "id": "JliSg23R-H7d"
   }
  },
  {
   "cell_type": "code",
   "execution_count": 1,
   "metadata": {
    "colab": {
     "base_uri": "https://localhost:8080/"
    },
    "id": "I4Dhj6bk5T4W",
    "executionInfo": {
     "status": "ok",
     "timestamp": 1709765572611,
     "user_tz": 180,
     "elapsed": 3809,
     "user": {
      "displayName": "Alan Diek Guimarães",
      "userId": "14723038698467659112"
     }
    },
    "outputId": "d13ddaeb-064d-4732-f803-b7f2a70517e1",
    "ExecuteTime": {
     "end_time": "2024-03-20T02:09:10.776319Z",
     "start_time": "2024-03-20T02:09:07.211561Z"
    }
   },
   "outputs": [
    {
     "ename": "ValueError",
     "evalue": "invalid literal for int() with base 10: ''",
     "output_type": "error",
     "traceback": [
      "\u001B[1;31m---------------------------------------------------------------------------\u001B[0m",
      "\u001B[1;31mValueError\u001B[0m                                Traceback (most recent call last)",
      "Cell \u001B[1;32mIn[1], line 9\u001B[0m\n\u001B[0;32m      4\u001B[0m   \u001B[38;5;28mprint\u001B[39m(\u001B[38;5;124m\"\u001B[39m\u001B[38;5;124m-\u001B[39m\u001B[38;5;124m\"\u001B[39m \u001B[38;5;241m*\u001B[39m \u001B[38;5;241m50\u001B[39m)\n\u001B[0;32m      8\u001B[0m nome \u001B[38;5;241m=\u001B[39m \u001B[38;5;28minput\u001B[39m(\u001B[38;5;124m\"\u001B[39m\u001B[38;5;124mEntre com seu nome: \u001B[39m\u001B[38;5;124m\"\u001B[39m)\u001B[38;5;241m.\u001B[39mtitle()\n\u001B[1;32m----> 9\u001B[0m idade \u001B[38;5;241m=\u001B[39m \u001B[38;5;28;43mint\u001B[39;49m\u001B[43m(\u001B[49m\u001B[38;5;28;43minput\u001B[39;49m\u001B[43m(\u001B[49m\u001B[38;5;124;43m\"\u001B[39;49m\u001B[38;5;124;43mDigite sua idade: \u001B[39;49m\u001B[38;5;124;43m\"\u001B[39;49m\u001B[43m)\u001B[49m\u001B[43m)\u001B[49m\n\u001B[0;32m     11\u001B[0m linha_cabecalho()\n\u001B[0;32m     12\u001B[0m saudacao(nome, idade)\n",
      "\u001B[1;31mValueError\u001B[0m: invalid literal for int() with base 10: ''"
     ]
    }
   ],
   "source": [
    "def saudacao(nome, idade):\n",
    "  print(\"Olá,\",nome,\"sua idade é\", idade,\"anos.\")\n",
    "def linha_cabecalho():\n",
    "  print(\"-\" * 50)\n",
    "\n",
    "\n",
    "\n",
    "nome = input(\"Entre com seu nome: \").title()\n",
    "idade = int(input(\"Digite sua idade: \"))\n",
    "\n",
    "linha_cabecalho()\n",
    "saudacao(nome, idade)\n",
    "linha_cabecalho()\n",
    "\n"
   ]
  },
  {
   "cell_type": "markdown",
   "source": [
    "Função alterna sinal"
   ],
   "metadata": {
    "id": "oIJyBDq0TOh_"
   }
  },
  {
   "cell_type": "code",
   "source": [
    "def alterna(N):\n",
    "  mult = -1\n",
    "  fat = -1\n",
    "  for n in range(N+1):\n",
    "    num = fat * n\n",
    "    fat *= mult\n",
    "    print(num, end=' ')\n",
    "  print()\n",
    "\n",
    "alterna(5)\n",
    "alterna(9)\n",
    "alterna(12)\n",
    "\n"
   ],
   "metadata": {
    "colab": {
     "base_uri": "https://localhost:8080/"
    },
    "id": "onmEdNqW-HFX",
    "executionInfo": {
     "status": "ok",
     "timestamp": 1709766491943,
     "user_tz": 180,
     "elapsed": 249,
     "user": {
      "displayName": "Alan Diek Guimarães",
      "userId": "14723038698467659112"
     }
    },
    "outputId": "5a01e9bd-6e3a-4aa4-9ca2-3c0635801c01"
   },
   "execution_count": null,
   "outputs": [
    {
     "output_type": "stream",
     "name": "stdout",
     "text": [
      "0 1 -2 3 -4 5 \n",
      "0 1 -2 3 -4 5 -6 7 -8 9 \n",
      "0 1 -2 3 -4 5 -6 7 -8 9 -10 11 -12 \n"
     ]
    }
   ]
  },
  {
   "cell_type": "markdown",
   "source": [
    "Função para retornar valores"
   ],
   "metadata": {
    "id": "IamAFEixEJMo"
   }
  },
  {
   "cell_type": "code",
   "source": [
    "def perimetro_retangulo(a,b):\n",
    "  perimetro_retangulo = 2*a +2*b\n",
    "  return  perimetro_retangulo\n",
    "\n",
    "perimetro_retangulo(2,3)"
   ],
   "metadata": {
    "colab": {
     "base_uri": "https://localhost:8080/"
    },
    "id": "CCXjj733EIUv",
    "executionInfo": {
     "status": "ok",
     "timestamp": 1709767603321,
     "user_tz": 180,
     "elapsed": 252,
     "user": {
      "displayName": "Alan Diek Guimarães",
      "userId": "14723038698467659112"
     }
    },
    "outputId": "6326b5b5-5117-4257-8514-4cc9d468fbce"
   },
   "execution_count": null,
   "outputs": [
    {
     "output_type": "execute_result",
     "data": {
      "text/plain": [
       "10"
      ]
     },
     "metadata": {},
     "execution_count": 59
    }
   ]
  },
  {
   "cell_type": "code",
   "source": [
    "def perimetro_retangulo(a,b):\n",
    "  calculo = 2*a +2*b\n",
    "  return  calculo\n",
    "\n",
    "perimetro_retangulo(4,3)"
   ],
   "metadata": {
    "colab": {
     "base_uri": "https://localhost:8080/"
    },
    "id": "2xFBra6JFxu9",
    "executionInfo": {
     "status": "ok",
     "timestamp": 1709767601158,
     "user_tz": 180,
     "elapsed": 254,
     "user": {
      "displayName": "Alan Diek Guimarães",
      "userId": "14723038698467659112"
     }
    },
    "outputId": "259ca794-d983-4e32-e0b1-c4ef14136aef"
   },
   "execution_count": null,
   "outputs": [
    {
     "output_type": "execute_result",
     "data": {
      "text/plain": [
       "14"
      ]
     },
     "metadata": {},
     "execution_count": 58
    }
   ]
  },
  {
   "cell_type": "code",
   "source": [
    "def perimetro(altura,largura):\n",
    "    total = (altura + largura)*2\n",
    "    return total\n",
    "\n",
    "altura = float(input(\"Insira a altura do retângulo: \"))\n",
    "largura = float(input(\"Insira a largura do retângulo: \"))\n",
    "\n",
    "perimetro(altura,largura)"
   ],
   "metadata": {
    "colab": {
     "base_uri": "https://localhost:8080/"
    },
    "id": "A56sKIx8F28W",
    "executionInfo": {
     "status": "ok",
     "timestamp": 1709767639431,
     "user_tz": 180,
     "elapsed": 2662,
     "user": {
      "displayName": "Alan Diek Guimarães",
      "userId": "14723038698467659112"
     }
    },
    "outputId": "9dacb8e9-c54e-4619-aedf-d8ca2259bfe9"
   },
   "execution_count": null,
   "outputs": [
    {
     "name": "stdout",
     "output_type": "stream",
     "text": [
      "Insira a altura do retângulo: 2\n",
      "Insira a largura do retângulo: 3\n"
     ]
    },
    {
     "output_type": "execute_result",
     "data": {
      "text/plain": [
       "10.0"
      ]
     },
     "metadata": {},
     "execution_count": 61
    }
   ]
  },
  {
   "cell_type": "markdown",
   "source": [
    "Parâmetros posicionais e nomeados"
   ],
   "metadata": {
    "id": "n5yQ24BaIIDc"
   }
  },
  {
   "cell_type": "code",
   "source": [
    "def saudacao(nome, mensagem):\n",
    "  print(\"olá\", nome, \"!\", mensagem)\n",
    "\n",
    "nome = \"ALAN DIEK\".title()\n",
    "mensagem = \"você ama sua princesinha? \"\n",
    "saudacao(nome, mensagem)"
   ],
   "metadata": {
    "colab": {
     "base_uri": "https://localhost:8080/"
    },
    "id": "aYha7GvWGcBj",
    "executionInfo": {
     "status": "ok",
     "timestamp": 1709768101116,
     "user_tz": 180,
     "elapsed": 272,
     "user": {
      "displayName": "Alan Diek Guimarães",
      "userId": "14723038698467659112"
     }
    },
    "outputId": "2733cac5-22f7-4e34-80ea-e488300d8475"
   },
   "execution_count": null,
   "outputs": [
    {
     "output_type": "stream",
     "name": "stdout",
     "text": [
      "olá Alan Diek ! você ama sua princesinha? \n"
     ]
    }
   ]
  },
  {
   "cell_type": "markdown",
   "source": [
    "RETORNO MÚLTIPLO DE VALORES"
   ],
   "metadata": {
    "id": "FMGsNH2OIOTv"
   }
  },
  {
   "cell_type": "code",
   "source": [
    "def soma_pn(valores):\n",
    "  soma_p = 0\n",
    "  soma_n = 0\n",
    "  for n in valores:\n",
    "    if n > 0 :\n",
    "      soma_p += n\n",
    "    else:\n",
    "      soma_n += n\n",
    "  return soma_p, soma_n\n",
    "\n",
    "valores = [2, -1, 3, -4]\n",
    "soma_p, soma_n = soma_pn(valores)\n",
    "print(f\"\"\"Soma dos positivos = {soma_p}\n",
    "Soma dos negativos = {soma_n}\"\"\")"
   ],
   "metadata": {
    "colab": {
     "base_uri": "https://localhost:8080/"
    },
    "id": "zXuZtmHhIHRF",
    "executionInfo": {
     "status": "ok",
     "timestamp": 1709772162167,
     "user_tz": 180,
     "elapsed": 282,
     "user": {
      "displayName": "Alan Diek Guimarães",
      "userId": "14723038698467659112"
     }
    },
    "outputId": "9a7c2928-6613-4560-fa2e-8ac98dc75eb3"
   },
   "execution_count": null,
   "outputs": [
    {
     "output_type": "stream",
     "name": "stdout",
     "text": [
      "Soma dos positivos = 5\n",
      "Soma dos negativos = -5\n"
     ]
    }
   ]
  },
  {
   "cell_type": "markdown",
   "source": [
    "Implemente a função somas(lista) que recebe uma lista de números e retorna a soma dos números e a soma dos números ao quadrado."
   ],
   "metadata": {
    "id": "hvRdO-0fdHht"
   }
  },
  {
   "cell_type": "code",
   "source": [
    "\n",
    "def somas(lista):\n",
    "  soma1, soma2 = 0, 0\n",
    "  for num in lista:\n",
    "    soma1 = soma1 + num\n",
    "    soma2 = soma2 + num * num\n",
    "  return soma1, soma2\n",
    "\n",
    "lista = [1, 2, 3, 4, 5, -1, 2.2, 3.1415]\n",
    "\n",
    "soma1, soma2 = somas(lista)\n",
    "print(f\"\"\"Soma = {soma1:.2f}\n",
    "Soma ao quadrado = {soma2:.2f}\"\"\")\n"
   ],
   "metadata": {
    "colab": {
     "base_uri": "https://localhost:8080/"
    },
    "id": "92GHCYOgdDYv",
    "executionInfo": {
     "status": "ok",
     "timestamp": 1709824945009,
     "user_tz": 180,
     "elapsed": 274,
     "user": {
      "displayName": "Alan Diek Guimarães",
      "userId": "14723038698467659112"
     }
    },
    "outputId": "a9dcf275-b3fb-48c7-b251-05b4b7d268cf"
   },
   "execution_count": 17,
   "outputs": [
    {
     "output_type": "stream",
     "name": "stdout",
     "text": [
      "Soma = 19.34\n",
      "Soma ao quadrado = 70.71\n"
     ]
    }
   ]
  }
 ]
}
