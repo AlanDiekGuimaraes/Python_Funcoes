{
 "cells": [
  {
   "cell_type": "markdown",
   "id": "8e77cf63-90fb-472d-8e1b-5ad5a1687060",
   "metadata": {},
   "source": [
    "Função RECURSIVA\n"
   ]
  },
  {
   "cell_type": "code",
   "execution_count": 3,
   "id": "83f5261a-f771-48ae-bf24-698798ab809e",
   "metadata": {
    "ExecuteTime": {
     "end_time": "2024-03-19T02:45:23.470900Z",
     "start_time": "2024-03-19T02:45:23.464170Z"
    }
   },
   "outputs": [
    {
     "data": {
      "text/plain": "24"
     },
     "execution_count": 3,
     "metadata": {},
     "output_type": "execute_result"
    }
   ],
   "source": [
    "def fatorial(n):\n",
    "    if n == 0:\n",
    "        return 1\n",
    "    else:\n",
    "        return n * fatorial (n-1)\n",
    "fatorial(4)"
   ]
  },
  {
   "cell_type": "markdown",
   "id": "600d107c-0b0e-4373-8409-2e1d37478618",
   "metadata": {},
   "source": [
    "Função recursiva potencia (a,b)\n",
    "potencia(a,b) = a * potencia(a,b-1)\n",
    "caso base: potencia(a, 0) = 1"
   ]
  },
  {
   "cell_type": "code",
   "execution_count": 33,
   "id": "f6b9eb0b-b259-4ce0-a45b-ffa883007039",
   "metadata": {},
   "outputs": [
    {
     "data": {
      "text/plain": [
       "125"
      ]
     },
     "execution_count": 33,
     "metadata": {},
     "output_type": "execute_result"
    }
   ],
   "source": [
    "# a^b = \n",
    "\n",
    "def potencia(base, expoente):\n",
    "    if expoente == 0:\n",
    "        return 1\n",
    "    else:\n",
    "        return base * potencia(base, expoente-1)\n",
    "\n",
    "potencia(5,3)"
   ]
  },
  {
   "cell_type": "markdown",
   "id": "dd16555a-5b86-418c-9b88-4ccbc55b0871",
   "metadata": {},
   "source": [
    "Funcão interativa da função anterior\n",
    "Potencia (a,b) = a * a * a ..., b vezes\n",
    "\n"
   ]
  },
  {
   "cell_type": "code",
   "execution_count": 5,
   "id": "b091b72f-c72a-456a-ad75-b2fd8f329e61",
   "metadata": {
    "ExecuteTime": {
     "end_time": "2024-03-19T02:45:47.679248Z",
     "start_time": "2024-03-19T02:45:47.671530Z"
    }
   },
   "outputs": [
    {
     "data": {
      "text/plain": "216"
     },
     "execution_count": 5,
     "metadata": {},
     "output_type": "execute_result"
    }
   ],
   "source": [
    "def potencia_interativa(base, expoente):\n",
    "    pot = 1\n",
    "    for contador in range(expoente):\n",
    "        pot = pot * base\n",
    "    return pot\n",
    "\n",
    "potencia_interativa(6,3)"
   ]
  },
  {
   "cell_type": "markdown",
   "id": "d6ff0842-9945-4e5b-ae29-63912f5e74ba",
   "metadata": {},
   "source": [
    "Função Lambda "
   ]
  },
  {
   "cell_type": "code",
   "execution_count": 3,
   "id": "b1e0c1b2-13f1-44e0-a4e5-782928bb7003",
   "metadata": {},
   "outputs": [
    {
     "name": "stdout",
     "output_type": "stream",
     "text": [
      "9\n"
     ]
    }
   ],
   "source": [
    "quadrado = lambda x: x**2\n",
    "print(quadrado(3))"
   ]
  },
  {
   "cell_type": "code",
   "execution_count": 4,
   "id": "3c019414-39b6-4bfb-b958-7f105d4b6062",
   "metadata": {},
   "outputs": [],
   "source": [
    "celsiusXfahrenheit = lambda c: c*1.8+32 \n",
    "\n",
    "celsiusXfahrenheit(100)"
   ]
  },
  {
   "cell_type": "code",
   "execution_count": 12,
   "id": "1352fb7b-625e-45c6-bbd2-38712b06b7f8",
   "metadata": {},
   "outputs": [
    {
     "data": {
      "text/plain": [
       "100"
      ]
     },
     "execution_count": 12,
     "metadata": {},
     "output_type": "execute_result"
    }
   ],
   "source": [
    "\"Função para retornar o maior elemento entre o intervalo de valores entre a e b\"\n",
    "\n",
    "max = lambda a, b: a if a>b else b\n",
    "\n",
    "max(100, 90)"
   ]
  },
  {
   "cell_type": "code",
   "execution_count": 11,
   "id": "805eb596-69df-4712-ba41-623a0d75d71e",
   "metadata": {},
   "outputs": [
    {
     "data": {
      "text/plain": [
       "100"
      ]
     },
     "execution_count": 11,
     "metadata": {},
     "output_type": "execute_result"
    }
   ],
   "source": [
    "(lambda a, b: a if a>b else b)(100, 90)"
   ]
  },
  {
   "cell_type": "raw",
   "id": "52a20684-023b-4842-a9b1-812ef168a688",
   "metadata": {},
   "source": [
    "Exercícios para pratica em sala de aula"
   ]
  },
  {
   "cell_type": "code",
   "execution_count": 20,
   "id": "294ccc89-821d-400e-8309-0fdc22ebffca",
   "metadata": {},
   "outputs": [],
   "source": [
    "# Calcular raiz quadrada\n",
    "def raiz(N):\n",
    "    \"\"\"Calcula a raiz quadrada de N\n",
    "    Usando o algoritmo:\n",
    "    x_(n+1) = 1/2 * (x_n + N/x_n)\n",
    "     \"\"\"\n",
    "    if N == 0 or N == 1:\n",
    "        return N\n",
    "    if N < 0:\n",
    "        N = -N\n",
    "    x, n = 1, 0\n",
    "    while abs(x*x - N)> 1e-9: # 0.00001 == 1e-5\n",
    "        n += 1\n",
    "        x = 1/2 * (x + N/x)\n",
    "    return x\n",
    "    "
   ]
  },
  {
   "cell_type": "code",
   "execution_count": 26,
   "id": "c04d14c2-54ab-4ffe-8e8e-ae7a79ffa747",
   "metadata": {},
   "outputs": [
    {
     "data": {
      "text/plain": [
       "0"
      ]
     },
     "execution_count": 26,
     "metadata": {},
     "output_type": "execute_result"
    }
   ],
   "source": [
    "raiz(0)"
   ]
  },
  {
   "cell_type": "code",
   "execution_count": 27,
   "id": "899d6fb4-8d0b-400a-9991-6989e0b0d592",
   "metadata": {},
   "outputs": [
    {
     "data": {
      "text/plain": [
       "5.0"
      ]
     },
     "execution_count": 27,
     "metadata": {},
     "output_type": "execute_result"
    }
   ],
   "source": [
    "def pitagoras(a, b):\n",
    "    \"\"\"\n",
    "    Calcula a hipotenusa\n",
    "    de triângulo retângulo\n",
    "    de catetos A e B.\n",
    "    \"\"\"\n",
    "    return (a**2 + b**2)**0.5\n",
    "\n",
    "pitagoras(3,4)"
   ]
  },
  {
   "cell_type": "code",
   "execution_count": 31,
   "id": "6fcd683d-09bf-41e7-b3d4-84509d141322",
   "metadata": {},
   "outputs": [],
   "source": [
    "def eqgrau2(a, b, c):\n",
    "    \"\"\"\n",
    "    Resolve:\n",
    "    a * X**2 + b * x + c = 0\n",
    "    \"\"\"\n",
    "    delta = (b**2 -4 * a * c)\n",
    "    if delta < 0:\n",
    "        print(f\"Delta ({delta}) é menor do que zero!\")\n",
    "        return None\n",
    "    rdelta = raiz(delta)\n",
    "    x1 = (-b - rdelta) / (2 * a)\n",
    "    x2 = (-b + rdelta) / (2 * a)\n",
    "    return x1, x2\n"
   ]
  },
  {
   "cell_type": "code",
   "execution_count": 48,
   "id": "80e5ed7b-38b6-4a22-93a8-7e89be430e98",
   "metadata": {},
   "outputs": [
    {
     "name": "stdout",
     "output_type": "stream",
     "text": [
      "(2.0, 3.0)\n",
      "Delta (-39) é menor do que zero!\n"
     ]
    }
   ],
   "source": [
    "# (x - 2)*(x - 3) = 0 tem raizes 2 e 3\n",
    "# x**2 - 5 * x + 6 = 0\n",
    "# a = 1, b = -5, c = 6\n",
    "\n",
    "a, b, c = 1, -5, 6\n",
    "eqgrau2(a, b, c)\n",
    "print(eqgrau2(a, b, c))\n",
    "\n",
    "\n",
    "a, b, c = 10, 1, 1\n",
    "eqgrau2(a, b, c)\n"
   ]
  },
  {
   "cell_type": "code",
   "execution_count": 67,
   "id": "5b8aa58b-9f57-4636-bdd4-fb01dcdc1fb3",
   "metadata": {},
   "outputs": [
    {
     "name": "stdout",
     "output_type": "stream",
     "text": [
      "5050\n",
      "5050\n"
     ]
    }
   ],
   "source": [
    "def soma_recursiva(n):\n",
    "    if n == 1:\n",
    "        return 1\n",
    "    if n <=0:\n",
    "        return 0\n",
    "    return n + soma_recursiva(n-1)\n",
    "\n",
    "\n",
    "print(soma_recursiva(100))\n",
    "\n",
    "def soma_interativo(i):\n",
    "    soma = 0\n",
    "    for n in range(1, i + 1):\n",
    "        soma += n\n",
    "    return soma\n",
    "\n",
    "\n",
    "print(soma_interativo(100))"
   ]
  },
  {
   "cell_type": "code",
   "execution_count": 88,
   "id": "57942841-634e-4bd1-9da9-05409ba46917",
   "metadata": {},
   "outputs": [
    {
     "name": "stdout",
     "output_type": "stream",
     "text": [
      "3\n"
     ]
    },
    {
     "data": {
      "text/plain": [
       "[1, 1, 2, 3, 5, 8, 13, 21, 34, 55]"
      ]
     },
     "execution_count": 88,
     "metadata": {},
     "output_type": "execute_result"
    }
   ],
   "source": [
    "def fibonacci(n):\n",
    "    if n == 0 or n == 1:\n",
    "        return n\n",
    "    return fibonacci(n-1) + fibonacci(n-2)\n",
    "    \n",
    "print(fibonacci(4))\n",
    "\n",
    "[fibonacci (n) for n in range(1, 11)]"
   ]
  },
  {
   "cell_type": "markdown",
   "id": "0dd70146-1852-4bf0-a861-76c031bb5543",
   "metadata": {},
   "source": [
    "Função para calcular o PI."
   ]
  },
  {
   "cell_type": "code",
   "execution_count": 104,
   "id": "95a0f402-6282-4fb7-8e11-e5a7eb61906e",
   "metadata": {},
   "outputs": [
    {
     "name": "stdout",
     "output_type": "stream",
     "text": [
      "3.1415826535897198\n"
     ]
    }
   ],
   "source": [
    "def estima_pi(n):\n",
    "    return 4*sum([1/((2*x+1)*(-1)**x) for x in range(n)])\n",
    "    \n",
    "print(estima_pi(100000))\n"
   ]
  },
  {
   "cell_type": "code",
   "execution_count": 106,
   "id": "a7a7270f-da69-41eb-beee-ee516791c33d",
   "metadata": {},
   "outputs": [],
   "source": [
    "import numpy"
   ]
  },
  {
   "cell_type": "code",
   "execution_count": 107,
   "id": "72d2f81c-4d9a-4def-9b81-c4fc0c533d36",
   "metadata": {},
   "outputs": [
    {
     "data": {
      "text/plain": [
       "3.141592653589793"
      ]
     },
     "execution_count": 107,
     "metadata": {},
     "output_type": "execute_result"
    }
   ],
   "source": [
    "numpy.pi"
   ]
  }
 ],
 "metadata": {
  "kernelspec": {
   "display_name": "Python 3 (ipykernel)",
   "language": "python",
   "name": "python3"
  },
  "language_info": {
   "codemirror_mode": {
    "name": "ipython",
    "version": 3
   },
   "file_extension": ".py",
   "mimetype": "text/x-python",
   "name": "python",
   "nbconvert_exporter": "python",
   "pygments_lexer": "ipython3",
   "version": "3.11.7"
  }
 },
 "nbformat": 4,
 "nbformat_minor": 5
}
