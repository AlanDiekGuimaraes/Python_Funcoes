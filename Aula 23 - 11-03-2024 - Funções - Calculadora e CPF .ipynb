{
 "cells": [
  {
   "cell_type": "markdown",
   "id": "72a0784dd7b00980",
   "metadata": {
    "collapsed": false,
    "jupyter": {
     "outputs_hidden": false
    }
   },
   "source": [
    "01 - Criar uma calculadora em python"
   ]
  },
  {
   "cell_type": "code",
   "execution_count": null,
   "id": "8a379248-5056-44df-9ded-95fdadbac19b",
   "metadata": {
    "is_executing": true
   },
   "outputs": [],
   "source": [
    "#Calculadora em python\n",
    "def cabecalho(mensagem):\n",
    "    print(\"=\" * 50)\n",
    "    print(mensagem.center(50).upper())\n",
    "    print(\"=\" * 50)\n",
    "\n",
    "def rodape(mensagem):\n",
    "    print(\"=\" * 50)\n",
    "    print(mensagem.center(50).upper())\n",
    "    print(\"=\" * 50)\n",
    "\n",
    "\n",
    "def soma(num1, num2):\n",
    "    return num1 + num2\n",
    "\n",
    "def subtracao(num1, num2):\n",
    "    return num1 - num2\n",
    "\n",
    "def multiplicacao(num1, num2):\n",
    "    return num1 * num2\n",
    "\n",
    "def divisao(num1, num2):\n",
    "    return num1 / num2\n",
    "\n",
    "def potenciacao(num1, num2):\n",
    "    return num1 ** num2\n",
    "\n",
    "#Função para exibir o menu da calculadora\n",
    "def exibir_menu():\n",
    "    print(\"Escolha a operação - Calculadora\".center(50).upper())\n",
    "    print(f\"\"\"1. soma\n",
    "2. subtração\n",
    "3. Multiplicação\n",
    "4. Divisão\n",
    "5. Potenciacão\"\"\")\n",
    "    print(\"-\" * 50)\n",
    "\n",
    "#Função principal da calculadora\n",
    "\n",
    "def calculadora():\n",
    "    exibir_menu()\n",
    "    opcao = int(input(\"Digite o número da operação desejada: \"))\n",
    "    resposta = 0\n",
    "\n",
    "    if opcao in (1, 2, 3, 4, 5):\n",
    "        num1 = int(input(\"Digite o primeiro número: \"))\n",
    "        num2 = int(input(\"Digite o Segundo número: \"))\n",
    "        if opcao == 1:\n",
    "            resposta = soma(num1, num2)\n",
    "       \n",
    "        if opcao == 2:\n",
    "            resposta = subtracao(num1, num2)\n",
    "        \n",
    "        if opcao == 3:\n",
    "            resposta = multiplicacao(num1, num2)\n",
    "        if opcao == 4:\n",
    "            if num2 == 0:\n",
    "               return print(\"Divisão invalida\")              \n",
    "            resposta = divisao(num1, num2)\n",
    "        if opcao == 5:\n",
    "            resposta = potenciacao(num1, num2)\n",
    "\n",
    "        print(f\"Resposta: {resposta:.2f}\")\n",
    "    else:\n",
    "        print(\"Opção invalida\")\n",
    "    \n",
    "    \n"
   ]
  },
  {
   "cell_type": "code",
   "execution_count": 2,
   "id": "59085f49-ee0a-4c3e-ab97-8fda27a9d2b9",
   "metadata": {
    "is_executing": true
   },
   "outputs": [
    {
     "name": "stdout",
     "output_type": "stream",
     "text": [
      "==================================================\n",
      "              CALCULADORA EM PYTHON               \n",
      "==================================================\n",
      "         ESCOLHA A OPERAÇÃO - CALCULADORA         \n",
      "1. soma\n",
      "2. subtração\n",
      "3. Multiplicação\n",
      "4. Divisão\n",
      "5. Potenciacão\n",
      "--------------------------------------------------\n"
     ]
    },
    {
     "name": "stdin",
     "output_type": "stream",
     "text": [
      "Digite o número da operação desejada:  1\n",
      "Digite o primeiro número:  25\n",
      "Digite o Segundo número:  56\n"
     ]
    },
    {
     "name": "stdout",
     "output_type": "stream",
     "text": [
      "Resposta: 81.00\n",
      "==================================================\n",
      "                 FIM DO PROGRAMA                  \n",
      "==================================================\n"
     ]
    }
   ],
   "source": [
    "cabecalho(mensagem=\"calculadora em python\")\n",
    "calculadora()\n",
    "rodape(mensagem=\"fim do programa\")"
   ]
  },
  {
   "cell_type": "markdown",
   "id": "c329ff9dcf34cc5e",
   "metadata": {
    "collapsed": false,
    "jupyter": {
     "outputs_hidden": false
    }
   },
   "source": [
    "02 - Criar código validador de CPF "
   ]
  },
  {
   "cell_type": "code",
   "execution_count": 126,
   "id": "70fd5042dca1eb87",
   "metadata": {
    "ExecuteTime": {
     "end_time": "2024-03-10T21:26:19.360316Z",
     "start_time": "2024-03-10T21:26:19.350560Z"
    },
    "collapsed": false,
    "jupyter": {
     "outputs_hidden": false
    }
   },
   "outputs": [],
   "source": [
    "#Validador de CPF\n",
    "def validar_digito_verificador_1(digitos):\n",
    "    soma_digito_1 = 0\n",
    "    for n in range(9):\n",
    "        soma_digito_1 += (digitos[n] * (10-n))\n",
    "    d1 = ((soma_digito_1 * 10) % 11) % 10\n",
    "    return d1 == digitos[-2]\n",
    "    \n",
    "        \n",
    "def validar_digito_verificador_2(digitos):\n",
    "    soma_digito_2 = 0\n",
    "    for n in range(10):\n",
    "        soma_digito_2 += (digitos[n] * (11-n))\n",
    "    d2 = ((soma_digito_2 * 10) % 11) % 10\n",
    "    return d2 == digitos[-1]\n",
    "    \n",
    "def validar_cpf(cpf):\n",
    "    cpf_n = [int(digito) for digito in cpf if digito.isdigit()]\n",
    "    v1 = validar_digito_verificador_1(cpf_n)\n",
    "    if len(set(cpf_n)) == 1:\n",
    "        return False\n",
    "    if v1 == False:\n",
    "        return False\n",
    "    v2 = validar_digito_verificador_2(cpf_n)\n",
    "    if v2 == True:\n",
    "        return True\n",
    "    else:\n",
    "        return False\n",
    "        \n",
    "def main():\n",
    "    cpf = input(\"Digite o CPF (Apenas números): \")\n",
    "    if validar_cpf(cpf):\n",
    "        print(f\"{cpf} :CPF válido!\")\n",
    "    else:\n",
    "        print(f\"{cpf} : CPF inválido\")"
   ]
  },
  {
   "cell_type": "code",
   "execution_count": 127,
   "id": "1eac037be30356e7",
   "metadata": {
    "ExecuteTime": {
     "end_time": "2024-03-10T21:27:30.801830Z",
     "start_time": "2024-03-10T21:27:26.411182Z"
    },
    "collapsed": false,
    "jupyter": {
     "outputs_hidden": false
    }
   },
   "outputs": [
    {
     "name": "stdout",
     "output_type": "stream",
     "text": [
      "==================================================\n",
      "                 VALIDADOR DE CPF                 \n",
      "==================================================\n"
     ]
    },
    {
     "name": "stdin",
     "output_type": "stream",
     "text": [
      "Digite o CPF (Apenas números):  98765432100\n"
     ]
    },
    {
     "name": "stdout",
     "output_type": "stream",
     "text": [
      "98765432100 :CPF válido!\n",
      "==================================================\n",
      "                 FIM DO PROGRAMA                  \n",
      "==================================================\n"
     ]
    }
   ],
   "source": [
    "cabecalho(mensagem=\"Validador de cpf\")\n",
    "main()\n",
    "rodape(mensagem=\"Fim do programa\")"
   ]
  },
  {
   "cell_type": "markdown",
   "id": "00649cfb-c337-4628-af8c-7f91c9cf9d9e",
   "metadata": {},
   "source": [
    "03 - Geração dos 2 ultimos digitos do CPF"
   ]
  },
  {
   "cell_type": "code",
   "execution_count": null,
   "id": "e9fff71d-77e7-4c4c-8948-a8c1fa40dd35",
   "metadata": {
    "is_executing": true
   },
   "outputs": [],
   "source": [
    "def gerar_digito_verificador_1(digitos):\n",
    "    copia_d1 = digitos.copy()\n",
    "    soma_digito_1 = 0\n",
    "    for n in range(9):\n",
    "        soma_digito_1 += (digitos[n] * (10-n))\n",
    "    d1 = ((soma_digito_1 * 10) % 11) % 10\n",
    "    copia_d1.append(d1)\n",
    "    return copia_d1\n",
    " \n",
    "\n",
    "def gerar_digito_verificador_2(digitos):\n",
    "    copia_d2 = digitos.copy()\n",
    "    soma_digito_2 = 0\n",
    "    for n in range(10):\n",
    "        soma_digito_2 += (digitos[n] * (11-n))\n",
    "    d2 = ((soma_digito_2 * 10) % 11) % 10\n",
    "    copia_d2.append(d2)\n",
    "    return copia_d2\n",
    "    \n",
    "def gerar_cpf(cpf):\n",
    "    cpf_final = \"\"\n",
    "    cpf_n = [int(digito) for digito in cpf if digito in cpf if digito.isdigit()]\n",
    "    resultado1 = gerar_digito_verificador_1(cpf_n)\n",
    "    resultado2 = gerar_digito_verificador_2(resultado1)\n",
    "    if len(set(cpf_n)) == 1:\n",
    "        return \"inválido\"\n",
    "    for n in resultado2:\n",
    "        cpf_final += str(n)\n",
    "    return cpf_final\n",
    "    \n",
    "    \n",
    "def main():\n",
    "    cpf = input(\"Digite os 9 digitos do CPF: \")\n",
    "    print(f\"Valores digitados: {cpf}\")\n",
    "    print(f\"C.P.F.: {gerar_cpf(cpf)}\")\n",
    "    \n",
    "    \n",
    "\n",
    "\n",
    "cabecalho(\"Gerador de CPF\")\n",
    "main()\n",
    "rodape(\"Fim do programa\")"
   ]
  }
 ],
 "metadata": {
  "kernelspec": {
   "display_name": "Python 3 (ipykernel)",
   "language": "python",
   "name": "python3"
  },
  "language_info": {
   "codemirror_mode": {
    "name": "ipython",
    "version": 3
   },
   "file_extension": ".py",
   "mimetype": "text/x-python",
   "name": "python",
   "nbconvert_exporter": "python",
   "pygments_lexer": "ipython3",
   "version": "3.11.7"
  }
 },
 "nbformat": 4,
 "nbformat_minor": 5
}
